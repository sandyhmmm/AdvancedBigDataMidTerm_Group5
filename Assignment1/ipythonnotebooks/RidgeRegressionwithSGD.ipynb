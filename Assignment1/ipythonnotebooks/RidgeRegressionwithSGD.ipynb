{
 "cells": [
  {
   "cell_type": "code",
   "execution_count": 3,
   "metadata": {
    "collapsed": false
   },
   "outputs": [
    {
     "name": "stdout",
     "output_type": "stream",
     "text": [
      "Mean Squared Root Error =0.183485114139\n",
      "Variance = 7.99995817429e-07\n"
     ]
    }
   ],
   "source": [
    "# Library Imports\n",
    "\n",
    "from pyspark.mllib.regression import LabeledPoint, RidgeRegressionWithSGD\n",
    "\n",
    "from numpy import array\n",
    "\n",
    "from pyspark import SparkContext\n",
    "\n",
    "from pyspark.mllib.feature import StandardScaler\n",
    "\n",
    "# Load and parse the data\n",
    "\n",
    "def parsePoint(line):\n",
    "\n",
    "    values = [float(x) for x in line.split(',')]\n",
    "\n",
    "    return LabeledPoint(values[11], values[0:10])\n",
    "\n",
    "sc = SparkContext(\"local\", \"RidgeWithSGD\")\n",
    "\n",
    "sparkHome = os.environ.get('SPARK_HOME')\n",
    "fileLocation = sparkHome + \"/Assignment1/data.csv\";\n",
    "\n",
    "data = sc.textFile(fileLocation)\n",
    "\n",
    "parsedData = data.map(parsePoint)\n",
    "\n",
    "#Split training/test sets\n",
    "\n",
    "(trainingData, testData) = parsedData.randomSplit([0.6, 0.4])\n",
    "\n",
    "#Scaling features \n",
    "\n",
    "label = trainingData.map(lambda x: x.label)\n",
    "\n",
    "features = trainingData.map(lambda x: x.features)\n",
    "\n",
    "scaler1 = StandardScaler().fit(features)\n",
    "\n",
    "trainingData = label.zip(scaler1.transform(features))\n",
    "\n",
    "trainingData = trainingData.map(lambda (x,y) : LabeledPoint(x,y))\n",
    "\n",
    "# Build the model with the parsedData for 100 iterations using regularization \n",
    "\n",
    "#parameter as 0.01 and regularization type as ‘l2’\n",
    "\n",
    "model = RidgeRegressionWithSGD.train(trainingData,iterations=100,step=0.0001,regParam=0.1)\n",
    "\n",
    "# Evaluate the model on training data\n",
    "\n",
    "valuesAndPreds = testData.map(lambda p: (p.label, model.predict(p.features)))\n",
    "\n",
    "#Calculating the Sqrt Mean Square Error using the following formula\n",
    "\n",
    "MSE = valuesAndPreds.map(lambda (v, p): (v - p)**2).reduce(lambda x, y: x + y) / valuesAndPreds.count()\n",
    "\n",
    "MSER = (MSE)**0.5\n",
    "\n",
    "#Calculating the Variance using the following formula\n",
    "\n",
    "meanVal = valuesAndPreds.map(lambda (v,p): p).sum() /valuesAndPreds.count()\n",
    "\n",
    "variance = valuesAndPreds.map(lambda (v,p): (p - meanVal)**2).sum() /valuesAndPreds.count()\n",
    "\n",
    "#Print the Sqrt Mean Square Error and Variance calculated\n",
    "\n",
    "print(\"Mean Squared Root Error =\" +str(MSER))\n",
    "\n",
    "print (\"Variance = \" + str(variance))"
   ]
  },
  {
   "cell_type": "code",
   "execution_count": 2,
   "metadata": {
    "collapsed": true
   },
   "outputs": [],
   "source": [
    "sc.stop()"
   ]
  },
  {
   "cell_type": "code",
   "execution_count": null,
   "metadata": {
    "collapsed": true
   },
   "outputs": [],
   "source": []
  }
 ],
 "metadata": {
  "kernelspec": {
   "display_name": "Python 2",
   "language": "python",
   "name": "python2"
  },
  "language_info": {
   "codemirror_mode": {
    "name": "ipython",
    "version": 2
   },
   "file_extension": ".py",
   "mimetype": "text/x-python",
   "name": "python",
   "nbconvert_exporter": "python",
   "pygments_lexer": "ipython2",
   "version": "2.7.9"
  }
 },
 "nbformat": 4,
 "nbformat_minor": 0
}
